{
 "cells": [
  {
   "cell_type": "code",
   "execution_count": 6,
   "metadata": {
    "scrolled": true
   },
   "outputs": [
    {
     "name": "stderr",
     "output_type": "stream",
     "text": [
      "WARNING: MergeConflictWarning: Cannot merge meta key 'EXTNAME' types <type 'str'> and <type 'str'>, choosing EXTNAME='J_A_A_596_A14_grlist_s' [astropy.utils.metadata]\n",
      "WARNING: MergeConflictWarning: Cannot merge meta key 'CDS-NAME' types <type 'str'> and <type 'str'>, choosing CDS-NAME='J/A+A/596/A14/grlist_s' [astropy.utils.metadata]\n",
      "WARNING: MergeConflictWarning: Cannot merge meta key 'UCD__3' types <type 'str'> and <type 'str'>, choosing UCD__3='meta.id.parent' [astropy.utils.metadata]\n",
      "WARNING: MergeConflictWarning: Cannot merge meta key 'UCD__4' types <type 'str'> and <type 'str'>, choosing UCD__4='pos.eq.ra;meta.main' [astropy.utils.metadata]\n",
      "WARNING: MergeConflictWarning: Cannot merge meta key 'UCD__5' types <type 'str'> and <type 'str'>, choosing UCD__5='pos.eq.dec;meta.main' [astropy.utils.metadata]\n",
      "WARNING: MergeConflictWarning: Cannot merge meta key 'UCD__6' types <type 'str'> and <type 'str'>, choosing UCD__6='src.redshift' [astropy.utils.metadata]\n",
      "WARNING: MergeConflictWarning: Cannot merge meta key 'UCD__7' types <type 'str'> and <type 'str'>, choosing UCD__7='phys.luminosity' [astropy.utils.metadata]\n",
      "WARNING: MergeConflictWarning: Cannot merge meta key 'UCD__8' types <type 'str'> and <type 'str'>, choosing UCD__8='stat.error' [astropy.utils.metadata]\n",
      "WARNING: MergeConflictWarning: Cannot merge meta key 'UCD__9' types <type 'str'> and <type 'str'>, choosing UCD__9='phys.luminosity' [astropy.utils.metadata]\n",
      "WARNING: MergeConflictWarning: Cannot merge meta key 'UCD__10' types <type 'str'> and <type 'str'>, choosing UCD__10='phys.mass' [astropy.utils.metadata]\n"
     ]
    }
   ],
   "source": [
    "from astropy.table import Table\n",
    "from astropy.table import join\n",
    "saulder_gl = Table.read('asu(9).fit')\n",
    "saulder_groups = Table.read('asu(10).fit')\n",
    "from astropy.coordinates import match_coordinates_sky\n",
    "from astropy.coordinates import ICRS\n",
    "from astropy import units as u\n",
    "import numpy as np\n",
    "\n",
    "table = Table.read('imbh_garik.fits')\n",
    "c1 = ICRS(saulder_gl['RAJ2000'], saulder_gl['DEJ2000'], unit=(u.degree, u.degree))\n",
    "c2 = ICRS(table['ra'], table['dec'], unit=(u.degree, u.degree))\n",
    "idx, d2d, d3d = c2.match_to_catalog_sky(c1)\n",
    "saulder_found = saulder_gl[idx]\n",
    "joined = join(saulder_found,saulder_groups,keys='iGrID')\n",
    "table['iGalID'] = saulder_gl[idx]['iGalID']\n",
    "table['dist'] = d2d\n",
    "joined_garik7 = join(table,joined,keys='iGalID')\n",
    "joined_garik7 = joined_garik7[joined_garik7['dist']<5*u.arcsec]"
   ]
  },
  {
   "cell_type": "code",
   "execution_count": 7,
   "metadata": {},
   "outputs": [
    {
     "name": "stderr",
     "output_type": "stream",
     "text": [
      "/usr/lib/python2.7/dist-packages/astropy/table/column.py:1086: MaskedArrayFutureWarning: setting an item on a masked array which has a shared mask will not copy the mask and also change the original mask array in the future.\n",
      "Check the NumPy 1.11 release notes for more information.\n",
      "  ma.MaskedArray.__setitem__(self, index, value)\n"
     ]
    },
    {
     "data": {
      "text/html": [
       "&lt;Table masked=True length=156&gt;\n",
       "<table id=\"table140099388225552-232945\" class=\"table table-striped table-bordered table-condensed\">\n",
       "<thead><tr><th>bestObjID</th><th>ra</th><th>dec</th><th>Mbh_topcat</th><th>Ntot</th><th>logMstar_1</th></tr></thead>\n",
       "<thead><tr><th></th><th></th><th></th><th></th><th></th><th>[Msun]</th></tr></thead>\n",
       "<tr><td>587739132414853344</td><td>203.69537</td><td>36.372588</td><td>54548.8871034</td><td>1</td><td>8.70098</td></tr>\n",
       "<tr><td>587742610270847183</td><td>230.77072</td><td>11.764892</td><td>67848.4501025</td><td>1</td><td>8.91224</td></tr>\n",
       "<tr><td>587731679586418861</td><td>146.09184</td><td>47.459831</td><td>129373.696947</td><td>1</td><td>9.07523</td></tr>\n",
       "<tr><td>588023721245212738</td><td>220.71996</td><td>20.914345</td><td>91209.376501</td><td>2</td><td>9.17498</td></tr>\n",
       "<tr><td>588016879368470584</td><td>135.6861</td><td>31.273902</td><td>52517.6207343</td><td>1</td><td>9.23642</td></tr>\n",
       "<tr><td>588007004179333243</td><td>197.03555</td><td>64.006619</td><td>104297.337876</td><td>1</td><td>9.3065</td></tr>\n",
       "<tr><td>588018090542301398</td><td>236.76338</td><td>34.22206</td><td>49151.8623952</td><td>2</td><td>9.35424</td></tr>\n",
       "<tr><td>588018254303003063</td><td>255.49419</td><td>24.236431</td><td>102887.180383</td><td>2</td><td>9.38001</td></tr>\n",
       "<tr><td>587725470135287812</td><td>137.21117</td><td>55.379099</td><td>160928.561399</td><td>1</td><td>9.45859</td></tr>\n",
       "<tr><td>587725550666121396</td><td>139.74194</td><td>58.600912</td><td>111141.013254</td><td>1</td><td>9.46022</td></tr>\n",
       "<tr><td>587725816403722400</td><td>138.97119</td><td>57.816865</td><td>154568.568046</td><td>1</td><td>9.46498</td></tr>\n",
       "<tr><td>588017721175179400</td><td>164.37698</td><td>40.771166</td><td>69130.7218156</td><td>2</td><td>9.5107</td></tr>\n",
       "<tr><td>587733080819433563</td><td>209.33952</td><td>52.655074</td><td>171741.058716</td><td>2</td><td>9.5596</td></tr>\n",
       "<tr><td>587731892188741705</td><td>179.71933</td><td>58.583604</td><td>101363.239456</td><td>1</td><td>9.56634</td></tr>\n",
       "<tr><td>587741708348424407</td><td>181.14115</td><td>26.9472</td><td>45963.908123</td><td>2</td><td>9.57382</td></tr>\n",
       "<tr><td>587739828203487300</td><td>219.51426</td><td>23.354831</td><td>91357.7802376</td><td>1</td><td>9.59063</td></tr>\n",
       "<tr><td>587742627986079881</td><td>218.00823</td><td>14.458791</td><td>34529.3565416</td><td>1</td><td>9.60998</td></tr>\n",
       "<tr><td>587744873716842707</td><td>133.63104</td><td>12.299232</td><td>107462.409938</td><td>1</td><td>9.6215</td></tr>\n",
       "<tr><td>587724648190115935</td><td>195.63897</td><td>-3.3389377</td><td>82342.0747582</td><td>1</td><td>9.63073</td></tr>\n",
       "<tr><td>587729160057127189</td><td>233.60663</td><td>4.135197</td><td>107939.889447</td><td>2</td><td>9.63254</td></tr>\n",
       "<tr><td>587738947216212002</td><td>171.81593</td><td>39.083577</td><td>125464.983473</td><td>2</td><td>9.64531</td></tr>\n",
       "<tr><td>587726877810557023</td><td>337.60451</td><td>-9.3449523</td><td>79021.710398</td><td>1</td><td>9.65354</td></tr>\n",
       "<tr><td>587741722822639708</td><td>192.00299</td><td>27.984121</td><td>188253.280429</td><td>2</td><td>9.66032</td></tr>\n",
       "<tr><td>587730023863025957</td><td>214.412</td><td>7.4034296</td><td>111264.474557</td><td>1</td><td>9.6605</td></tr>\n",
       "<tr><td>588007005237870777</td><td>131.29787</td><td>52.375212</td><td>136254.231233</td><td>2</td><td>9.66494</td></tr>\n",
       "<tr><td>587735348571799652</td><td>177.01886</td><td>14.996819</td><td>104330.850078</td><td>1</td><td>9.66842</td></tr>\n",
       "<tr><td>587727943490208079</td><td>134.29868</td><td>1.4097367</td><td>62550.0854451</td><td>2</td><td>9.68973</td></tr>\n",
       "<tr><td>587741819453964342</td><td>147.75582</td><td>19.349009</td><td>179750.788545</td><td>1</td><td>9.70788</td></tr>\n",
       "<tr><td>587735695911092231</td><td>202.26895</td><td>56.06481</td><td>68283.6428596</td><td>1</td><td>9.72029</td></tr>\n",
       "<tr><td>588017979429158985</td><td>182.63009</td><td>40.417558</td><td>143056.545482</td><td>1</td><td>9.7393</td></tr>\n",
       "<tr><td>587739405707509916</td><td>182.53392</td><td>33.909419</td><td>171578.058964</td><td>1</td><td>9.74126</td></tr>\n",
       "<tr><td>587732702857986267</td><td>142.13184</td><td>5.8396339</td><td>67486.8129467</td><td>1</td><td>9.75257</td></tr>\n",
       "<tr><td>588018091080155277</td><td>239.33707</td><td>33.212213</td><td>105560.816632</td><td>2</td><td>9.79065</td></tr>\n",
       "<tr><td>587736585503768685</td><td>221.26515</td><td>36.628976</td><td>199714.455345</td><td>1</td><td>9.79589</td></tr>\n",
       "<tr><td>587745402537246956</td><td>138.60315</td><td>11.940433</td><td>182589.034288</td><td>2</td><td>9.79981</td></tr>\n",
       "<tr><td>588010879836094563</td><td>187.40125</td><td>5.6131392</td><td>164080.505095</td><td>2</td><td>9.80262</td></tr>\n",
       "<tr><td>587742189910294537</td><td>197.69333</td><td>24.138101</td><td>133495.169885</td><td>1</td><td>9.82196</td></tr>\n",
       "<tr><td>587732135380058154</td><td>162.2187</td><td>50.03668</td><td>134765.690542</td><td>2</td><td>9.83059</td></tr>\n",
       "<tr><td>587736752476520969</td><td>256.62309</td><td>20.250163</td><td>110836.658709</td><td>1</td><td>9.83466</td></tr>\n",
       "<tr><td>587732591183659089</td><td>204.42741</td><td>58.869428</td><td>93817.7534305</td><td>2</td><td>9.83838</td></tr>\n",
       "<tr><td>587726033340924156</td><td>222.58368</td><td>2.5449726</td><td>163301.954555</td><td>2</td><td>9.85651</td></tr>\n",
       "<tr><td>587731868016967719</td><td>156.44453</td><td>50.393303</td><td>144489.266297</td><td>2</td><td>9.87222</td></tr>\n",
       "<tr><td>587732771597975583</td><td>195.42317</td><td>10.01669</td><td>141750.27205</td><td>1</td><td>9.87227</td></tr>\n",
       "<tr><td>587738947743842338</td><td>146.37317</td><td>33.561324</td><td>33008.2640189</td><td>1</td><td>9.87408</td></tr>\n",
       "<tr><td>588017977828769946</td><td>212.09993</td><td>36.035751</td><td>154773.381119</td><td>2</td><td>9.88487</td></tr>\n",
       "<tr><td>587725475491610742</td><td>151.03023</td><td>61.658664</td><td>158881.907847</td><td>1</td><td>9.89047</td></tr>\n",
       "<tr><td>587736915141853330</td><td>220.02428</td><td>11.9191</td><td>75253.28134</td><td>1</td><td>9.89717</td></tr>\n",
       "<tr><td>588010358005497972</td><td>163.98396</td><td>3.6678253</td><td>123218.904956</td><td>1</td><td>9.90047</td></tr>\n",
       "<tr><td>588007003622408523</td><td>122.30998</td><td>42.946325</td><td>49359.4511318</td><td>1</td><td>9.90604</td></tr>\n",
       "<tr><td>587724197743362189</td><td>20.876406</td><td>13.753304</td><td>66177.1136046</td><td>1</td><td>9.91212</td></tr>\n",
       "<tr><td>587739652640735429</td><td>229.82171</td><td>24.86788</td><td>184351.124585</td><td>1</td><td>9.9185</td></tr>\n",
       "<tr><td>587729160044937394</td><td>205.68507</td><td>5.5155945</td><td>62326.4833667</td><td>1</td><td>9.92096</td></tr>\n",
       "<tr><td>587742550150283529</td><td>234.1007</td><td>12.883704</td><td>125175.812144</td><td>2</td><td>9.94192</td></tr>\n",
       "<tr><td>587732482758344979</td><td>213.82237</td><td>45.60637</td><td>101298.192334</td><td>1</td><td>9.96367</td></tr>\n",
       "<tr><td>587742061614333985</td><td>196.0451</td><td>22.289669</td><td>116982.524239</td><td>1</td><td>9.99755</td></tr>\n",
       "<tr><td>588023669704884317</td><td>174.98858</td><td>20.003703</td><td>82574.1776606</td><td>2</td><td>10.00167</td></tr>\n",
       "<tr><td>587741709412794526</td><td>157.32561</td><td>24.994287</td><td>113605.834224</td><td>1</td><td>10.00335</td></tr>\n",
       "<tr><td>588017724938322161</td><td>187.21028</td><td>7.1081867</td><td>45574.4461303</td><td>2</td><td>10.00374</td></tr>\n",
       "<tr><td>587731186189533419</td><td>327.08019</td><td>-0.0079294888</td><td>161714.290682</td><td>1</td><td>10.00389</td></tr>\n",
       "<tr><td>588011219136741586</td><td>211.65916</td><td>60.414064</td><td>85659.332181</td><td>1</td><td>10.00496</td></tr>\n",
       "<tr><td>587742550681911406</td><td>222.2087</td><td>16.134213</td><td>161906.108968</td><td>2</td><td>10.01384</td></tr>\n",
       "<tr><td>588016892784410653</td><td>150.35148</td><td>37.846346</td><td>177627.638072</td><td>2</td><td>10.01701</td></tr>\n",
       "<tr><td>587731501333151833</td><td>153.94852</td><td>54.520391</td><td>187186.152793</td><td>1</td><td>10.01758</td></tr>\n",
       "<tr><td>588017978888355993</td><td>171.15135</td><td>39.304953</td><td>109981.979793</td><td>2</td><td>10.03722</td></tr>\n",
       "<tr><td>587745403612495895</td><td>141.79463</td><td>13.500249</td><td>183564.411547</td><td>1</td><td>10.06041</td></tr>\n",
       "<tr><td>588007005800759562</td><td>239.56063</td><td>52.171836</td><td>74128.1855581</td><td>2</td><td>10.06262</td></tr>\n",
       "<tr><td>587741392105767211</td><td>135.44793</td><td>23.102979</td><td>123042.783761</td><td>2</td><td>10.07038</td></tr>\n",
       "<tr><td>587736808835907661</td><td>201.63741</td><td>14.420006</td><td>147789.585439</td><td>1</td><td>10.09407</td></tr>\n",
       "<tr><td>588017977274531973</td><td>162.26857</td><td>36.641559</td><td>153809.182682</td><td>1</td><td>10.09425</td></tr>\n",
       "<tr><td>587736945739694459</td><td>250.51319</td><td>22.119879</td><td>35420.8183599</td><td>1</td><td>10.09469</td></tr>\n",
       "<tr><td>587741727113478319</td><td>179.66291</td><td>25.558017</td><td>132257.323656</td><td>1</td><td>10.0948</td></tr>\n",
       "<tr><td>587742571075797174</td><td>172.76077</td><td>18.391711</td><td>133197.47906</td><td>1</td><td>10.10975</td></tr>\n",
       "<tr><td>588017704024998167</td><td>228.258</td><td>9.4573749</td><td>118012.831722</td><td>1</td><td>10.11501</td></tr>\n",
       "<tr><td>587726016163479800</td><td>227.58368</td><td>2.5238222</td><td>109647.875606</td><td>1</td><td>10.1151</td></tr>\n",
       "<tr><td>587730021716525214</td><td>216.51841</td><td>5.6565926</td><td>104068.192567</td><td>1</td><td>10.11855</td></tr>\n",
       "<tr><td>587733411517562984</td><td>206.14268</td><td>53.331786</td><td>84715.1509919</td><td>1</td><td>10.12622</td></tr>\n",
       "<tr><td>588017625614188775</td><td>171.45028</td><td>43.405189</td><td>123510.409879</td><td>1</td><td>10.12909</td></tr>\n",
       "<tr><td>588017625614188775</td><td>171.45028</td><td>43.405189</td><td>123510.409879</td><td>1</td><td>10.12909</td></tr>\n",
       "<tr><td>587739458301395165</td><td>227.00635</td><td>25.118858</td><td>104041.718867</td><td>1</td><td>10.13367</td></tr>\n",
       "<tr><td>587727214957756512</td><td>322.16447</td><td>-6.5111482</td><td>54687.6415523</td><td>1</td><td>10.13851</td></tr>\n",
       "<tr><td>587735349100085436</td><td>156.80823</td><td>13.742219</td><td>60310.2019355</td><td>1</td><td>10.14188</td></tr>\n",
       "<tr><td>587741828583325711</td><td>164.77967</td><td>23.174309</td><td>195234.292504</td><td>1</td><td>10.15271</td></tr>\n",
       "<tr><td>587737827280945627</td><td>111.47871</td><td>39.408016</td><td>177972.458779</td><td>1</td><td>10.15541</td></tr>\n",
       "<tr><td>587739131888140605</td><td>229.69382</td><td>28.459469</td><td>164366.25766</td><td>1</td><td>10.1563</td></tr>\n",
       "<tr><td>588017726011932728</td><td>186.88412</td><td>7.9632692</td><td>41668.1412269</td><td>1</td><td>10.15672</td></tr>\n",
       "<tr><td>587739377782620285</td><td>160.2047</td><td>33.232216</td><td>105269.941081</td><td>2</td><td>10.16008</td></tr>\n",
       "<tr><td>587742575911895115</td><td>200.53475</td><td>18.665302</td><td>187386.516217</td><td>1</td><td>10.17742</td></tr>\n",
       "<tr><td>587739843777397018</td><td>228.19545</td><td>17.808945</td><td>147093.634902</td><td>2</td><td>10.18263</td></tr>\n",
       "<tr><td>587741531706687626</td><td>158.03508</td><td>26.235533</td><td>185284.341137</td><td>1</td><td>10.18893</td></tr>\n",
       "<tr><td>588013382202622041</td><td>168.05565</td><td>50.536386</td><td>96097.9020031</td><td>1</td><td>10.20141</td></tr>\n",
       "<tr><td>587732577763590326</td><td>138.58966</td><td>4.8560841</td><td>98991.2529871</td><td>2</td><td>10.20687</td></tr>\n",
       "<tr><td>587730847960400699</td><td>311.32843</td><td>0.61011234</td><td>92295.7003489</td><td>1</td><td>10.2098</td></tr>\n",
       "<tr><td>587745244152332756</td><td>121.36379</td><td>9.2920249</td><td>141009.998876</td><td>2</td><td>10.22656</td></tr>\n",
       "<tr><td>587736586051584147</td><td>246.55145</td><td>24.225126</td><td>132834.297868</td><td>2</td><td>10.2271</td></tr>\n",
       "<tr><td>587725993035694117</td><td>246.45696</td><td>48.100344</td><td>141924.908313</td><td>1</td><td>10.22755</td></tr>\n",
       "<tr><td>587733603183165556</td><td>218.16918</td><td>54.314713</td><td>94056.1639712</td><td>1</td><td>10.24131</td></tr>\n",
       "<tr><td>587735431226327243</td><td>192.46244</td><td>50.666249</td><td>77160.04724</td><td>2</td><td>10.24172</td></tr>\n",
       "<tr><td>587726031726837795</td><td>214.60897</td><td>1.3560861</td><td>158944.079356</td><td>1</td><td>10.24675</td></tr>\n",
       "<tr><td>587732770505621681</td><td>152.41011</td><td>7.7822013</td><td>94474.8894668</td><td>2</td><td>10.25709</td></tr>\n",
       "<tr><td>587738409256550494</td><td>161.68021</td><td>12.918499</td><td>105450.147124</td><td>2</td><td>10.26009</td></tr>\n",
       "<tr><td>587726031169716328</td><td>168.33802</td><td>1.3431313</td><td>64334.1334954</td><td>2</td><td>10.26383</td></tr>\n",
       "<tr><td>588297864718975118</td><td>142.95083</td><td>39.291253</td><td>166941.841639</td><td>2</td><td>10.26637</td></tr>\n",
       "<tr><td>587736584980922677</td><td>251.90469</td><td>19.250104</td><td>161012.792723</td><td>1</td><td>10.26979</td></tr>\n",
       "<tr><td>588017991227539736</td><td>206.54171</td><td>9.2920662</td><td>147817.11232</td><td>2</td><td>10.27764</td></tr>\n",
       "<tr><td>587737827285532934</td><td>118.37884</td><td>48.773192</td><td>106084.113835</td><td>1</td><td>10.29122</td></tr>\n",
       "<tr><td>588848900435017959</td><td>146.88773</td><td>0.21745855</td><td>175193.1805</td><td>1</td><td>10.29435</td></tr>\n",
       "<tr><td>588011219678134419</td><td>228.75628</td><td>55.498851</td><td>199571.463393</td><td>1</td><td>10.30549</td></tr>\n",
       "<tr><td>587742614560178311</td><td>236.447</td><td>15.351586</td><td>120036.954594</td><td>1</td><td>10.31747</td></tr>\n",
       "<tr><td>588848899378839661</td><td>186.9015</td><td>-0.42624126</td><td>90017.7431994</td><td>1</td><td>10.3263</td></tr>\n",
       "<tr><td>588010879831048240</td><td>175.90284</td><td>5.4510966</td><td>106571.695361</td><td>1</td><td>10.33244</td></tr>\n",
       "<tr><td>587731890576228515</td><td>172.04412</td><td>56.707909</td><td>99277.6493165</td><td>1</td><td>10.33288</td></tr>\n",
       "<tr><td>588017116663578769</td><td>212.66993</td><td>45.002882</td><td>158191.703892</td><td>1</td><td>10.33875</td></tr>\n",
       "<tr><td>587739304215969927</td><td>182.05318</td><td>35.307419</td><td>159909.482672</td><td>2</td><td>10.34164</td></tr>\n",
       "<tr><td>587734623248515282</td><td>144.91919</td><td>40.418602</td><td>105206.951967</td><td>1</td><td>10.34655</td></tr>\n",
       "<tr><td>588017949887365219</td><td>180.08671</td><td>43.450382</td><td>96794.2610918</td><td>1</td><td>10.35061</td></tr>\n",
       "<tr><td>587731512617336938</td><td>45.159445</td><td>-0.15812793</td><td>157508.282884</td><td>1</td><td>10.35383</td></tr>\n",
       "<tr><td>588017991767883904</td><td>214.55971</td><td>8.9909802</td><td>154937.573852</td><td>1</td><td>10.35571</td></tr>\n",
       "<tr><td>587724240687792193</td><td>37.206315</td><td>-9.0316069</td><td>194787.652907</td><td>1</td><td>10.36368</td></tr>\n",
       "<tr><td>588017565490020395</td><td>185.52562</td><td>11.754714</td><td>80761.7271143</td><td>2</td><td>10.36574</td></tr>\n",
       "<tr><td>587739720289222747</td><td>190.59874</td><td>29.534672</td><td>171129.496698</td><td>2</td><td>10.36785</td></tr>\n",
       "<tr><td>587739115234001435</td><td>118.2301</td><td>17.016782</td><td>191417.592613</td><td>1</td><td>10.38227</td></tr>\n",
       "<tr><td>587725550677590128</td><td>196.10009</td><td>66.291054</td><td>186517.698008</td><td>1</td><td>10.38446</td></tr>\n",
       "<tr><td>587738615954735165</td><td>177.95028</td><td>36.592499</td><td>144252.394338</td><td>1</td><td>10.39539</td></tr>\n",
       "<tr><td>587725551201288417</td><td>133.9954</td><td>56.22623</td><td>125863.434127</td><td>1</td><td>10.42481</td></tr>\n",
       "<tr><td>588017978891305078</td><td>179.85209</td><td>40.067167</td><td>96954.2818692</td><td>2</td><td>10.44372</td></tr>\n",
       "<tr><td>587736812062048485</td><td>238.22009</td><td>8.4456356</td><td>145061.558712</td><td>1</td><td>10.45015</td></tr>\n",
       "<tr><td>587742593622016052</td><td>209.77226</td><td>15.832369</td><td>55440.8852655</td><td>1</td><td>10.45311</td></tr>\n",
       "<tr><td>587742568937291964</td><td>166.6278</td><td>19.764626</td><td>70241.8607424</td><td>1</td><td>10.45563</td></tr>\n",
       "<tr><td>587728881410965700</td><td>147.12654</td><td>4.8224838</td><td>158874.731543</td><td>1</td><td>10.47359</td></tr>\n",
       "<tr><td>587739810492776757</td><td>227.82552</td><td>20.857186</td><td>100309.268448</td><td>2</td><td>10.48167</td></tr>\n",
       "<tr><td>587731172769923229</td><td>315.48494</td><td>-0.53212785</td><td>103521.804399</td><td>1</td><td>10.50192</td></tr>\n",
       "<tr><td>588848900994236471</td><td>197.90608</td><td>0.66584445</td><td>52568.0701014</td><td>2</td><td>10.50786</td></tr>\n",
       "<tr><td>587741708338725067</td><td>156.6891</td><td>24.16643</td><td>83661.0496206</td><td>2</td><td>10.50932</td></tr>\n",
       "<tr><td>587727944567423163</td><td>142.23961</td><td>2.5852832</td><td>53342.4773888</td><td>1</td><td>10.51613</td></tr>\n",
       "<tr><td>587726033845354586</td><td>148.3582</td><td>2.9831307</td><td>156601.858483</td><td>1</td><td>10.51846</td></tr>\n",
       "<tr><td>588016891170390046</td><td>142.23139</td><td>33.380105</td><td>193384.241033</td><td>1</td><td>10.53123</td></tr>\n",
       "<tr><td>587729158432424067</td><td>201.27341</td><td>4.2045215</td><td>86975.1505468</td><td>1</td><td>10.54044</td></tr>\n",
       "<tr><td>587724650864967837</td><td>173.84328</td><td>-1.2431162</td><td>69181.5747047</td><td>1</td><td>10.5502</td></tr>\n",
       "<tr><td>587729406998872169</td><td>236.27516</td><td>51.785411</td><td>115689.953391</td><td>1</td><td>10.56131</td></tr>\n",
       "<tr><td>588017627756363875</td><td>154.75152</td><td>41.884913</td><td>139395.156146</td><td>1</td><td>10.57148</td></tr>\n",
       "<tr><td>587748927629951185</td><td>179.8191</td><td>-1.108364</td><td>182641.554088</td><td>1</td><td>10.61249</td></tr>\n",
       "<tr><td>588018254824997008</td><td>223.31836</td><td>46.630452</td><td>189570.176313</td><td>1</td><td>10.62727</td></tr>\n",
       "<tr><td>587736753546527083</td><td>250.76721</td><td>26.78628</td><td>151966.553713</td><td>2</td><td>10.64373</td></tr>\n",
       "<tr><td>587741391572500702</td><td>144.00342</td><td>25.698037</td><td>172700.172653</td><td>2</td><td>10.67439</td></tr>\n",
       "<tr><td>587727212269601363</td><td>313.26152</td><td>-7.3089966</td><td>139795.848374</td><td>1</td><td>10.68451</td></tr>\n",
       "<tr><td>587725491599114507</td><td>258.53766</td><td>58.818427</td><td>110525.97527</td><td>2</td><td>10.71729</td></tr>\n",
       "<tr><td>588848898836201599</td><td>173.84076</td><td>-0.99918667</td><td>163727.916255</td><td>1</td><td>10.74158</td></tr>\n",
       "<tr><td>587742863137046658</td><td>175.60044</td><td>16.236968</td><td>165233.23979</td><td>1</td><td>10.98238</td></tr>\n",
       "<tr><td>587736477593436302</td><td>222.84876</td><td>9.5924482</td><td>133548.41479</td><td>1</td><td>11.01672</td></tr>\n",
       "<tr><td>587737825141194963</td><td>126.883</td><td>53.800281</td><td>190547.639106</td><td>1</td><td>11.23945</td></tr>\n",
       "<tr><td>587722952769208886</td><td>241.30203</td><td>-0.070893398</td><td>173514.342696</td><td>1</td><td>nan</td></tr>\n",
       "<tr><td>11276189154017449</td><td>244.48703</td><td>22.945594</td><td>159936.930098</td><td>1</td><td>nan</td></tr>\n",
       "<tr><td>587734303802327349</td><td>329.33759</td><td>-0.7283684</td><td>41496.6721419</td><td>1</td><td>nan</td></tr>\n",
       "<tr><td>587731511546413204</td><td>51.692093</td><td>-0.99835203</td><td>52503.5643365</td><td>2</td><td>nan</td></tr>\n",
       "<tr><td>758882024636613688</td><td>49.864087</td><td>41.635273</td><td>89222.7649143</td><td>1</td><td>nan</td></tr>\n",
       "<tr><td>1126306866790484</td><td>1.7872679</td><td>1.2701186</td><td>139145.747636</td><td>2</td><td>nan</td></tr>\n",
       "</table><style>table.dataTable {clear: both; width: auto !important; margin: 0 !important;}\n",
       ".dataTables_info, .dataTables_length, .dataTables_filter, .dataTables_paginate{\n",
       "display: inline-block; margin-right: 1em; }\n",
       ".paginate_button { margin-right: 5px; }\n",
       "</style>\n",
       "<script>\n",
       "require.config({paths: {\n",
       "    datatables: 'https://cdn.datatables.net/1.10.9/js/jquery.dataTables.min'\n",
       "}});\n",
       "require([\"datatables\"], function(){\n",
       "    console.log(\"$('#table140099388225552-232945').dataTable()\");\n",
       "    $('#table140099388225552-232945').dataTable({\n",
       "        \"iDisplayLength\": 50,\n",
       "        \"aLengthMenu\": [[10, 25, 50, 100, 500, 1000, -1], [10, 25, 50, 100, 500, 1000, 'All']],\n",
       "        \"pagingType\": \"full_numbers\"\n",
       "    });\n",
       "});\n",
       "</script>\n"
      ],
      "text/plain": [
       "<IPython.core.display.HTML object>"
      ]
     },
     "execution_count": 7,
     "metadata": {},
     "output_type": "execute_result"
    }
   ],
   "source": [
    "final = joined_garik7['bestObjID','ra','dec','Mbh_topcat','Ntot','logMstar_1']\n",
    "final.sort('Ntot')\n",
    "alone = final[final['Ntot'] < 3]\n",
    "alone.sort('logMstar_1')\n",
    "alone.show_in_notebook()"
   ]
  },
  {
   "cell_type": "code",
   "execution_count": 2,
   "metadata": {},
   "outputs": [
    {
     "name": "stdout",
     "output_type": "stream",
     "text": [
      "/home/kirill\n"
     ]
    }
   ],
   "source": [
    "cd"
   ]
  },
  {
   "cell_type": "code",
   "execution_count": 3,
   "metadata": {},
   "outputs": [
    {
     "name": "stdout",
     "output_type": "stream",
     "text": [
      "/home/kirill/Downloads\n"
     ]
    }
   ],
   "source": [
    "cd Downloads/"
   ]
  },
  {
   "cell_type": "code",
   "execution_count": null,
   "metadata": {},
   "outputs": [],
   "source": []
  }
 ],
 "metadata": {
  "kernelspec": {
   "display_name": "Python 2",
   "language": "python",
   "name": "python2"
  },
  "language_info": {
   "codemirror_mode": {
    "name": "ipython",
    "version": 2
   },
   "file_extension": ".py",
   "mimetype": "text/x-python",
   "name": "python",
   "nbconvert_exporter": "python",
   "pygments_lexer": "ipython2",
   "version": "2.7.12"
  }
 },
 "nbformat": 4,
 "nbformat_minor": 2
}
